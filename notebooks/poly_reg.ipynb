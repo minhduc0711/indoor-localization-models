{
 "cells": [
  {
   "cell_type": "code",
   "execution_count": 2,
   "metadata": {},
   "outputs": [],
   "source": [
    "import io\n",
    "import numpy as np\n",
    "import pandas as pd\n",
    "import matplotlib.pyplot as plt\n",
    "\n",
    "import sklearn.preprocessing as maxabs_scale\n",
    "from sklearn.preprocessing import *\n",
    "from matplotlib.pyplot import *\n",
    "from sklearn.linear_model import LinearRegression, Ridge\n",
    "from sklearn.preprocessing import PolynomialFeatures\n",
    "from sklearn.metrics import mean_squared_error, mean_absolute_error\n",
    "from sklearn.pipeline import Pipeline\n",
    "\n",
    "from sklearn2pmml import sklearn2pmml\n",
    "from sklearn2pmml.pipeline import PMMLPipeline\n",
    "\n",
    "from utils import load_data"
   ]
  },
  {
   "cell_type": "code",
   "execution_count": 3,
   "metadata": {
    "scrolled": true
   },
   "outputs": [
    {
     "name": "stdout",
     "output_type": "stream",
     "text": [
      "X_train shape: (774, 76)\n",
      "y_train shape: (774, 2)\n",
      "X_test shape: (190, 76)\n",
      "y_test shape: (190, 2)\n"
     ]
    }
   ],
   "source": [
    "X_train, y_train, train_idx_dict = load_data(\"data/hallway_train.csv\")\n",
    "X_test, y_test, _ = load_data(\"data/hallway_test.csv\", train_idx_dict)\n",
    "\n",
    "X_train = maxabs_scale(X_train, copy=False)\n",
    "X_test = maxabs_scale(X_test, copy=False)\n",
    "\n",
    "print(\"X_train shape: {}\".format(X_train.shape))\n",
    "print(\"y_train shape: {}\".format(y_train.shape))\n",
    "print(\"X_test shape: {}\".format(X_test.shape))\n",
    "print(\"y_test shape: {}\".format(y_test.shape))"
   ]
  },
  {
   "cell_type": "code",
   "execution_count": 23,
   "metadata": {},
   "outputs": [
    {
     "data": {
      "text/plain": [
       "PMMLPipeline(steps=[('poly', PolynomialFeatures(degree=2, include_bias=True, interaction_only=False)),\n",
       "       ('ridge', Ridge(alpha=440, copy_X=True, fit_intercept=True, max_iter=None,\n",
       "   normalize=False, random_state=None, solver='auto', tol=0.001))])"
      ]
     },
     "execution_count": 23,
     "metadata": {},
     "output_type": "execute_result"
    }
   ],
   "source": [
    "pipeline_x = PMMLPipeline([('poly', PolynomialFeatures(degree=2)),\n",
    "                         ('ridge', Ridge(alpha=440))])\n",
    "pipeline_x.fit(X_train, y_train[:, 0])\n",
    "\n",
    "pipeline_y = PMMLPipeline([('poly', PolynomialFeatures(degree=2)),\n",
    "                         ('ridge', Ridge(alpha=440))])\n",
    "pipeline_y.fit(X_train, y_train[:, 1])"
   ]
  },
  {
   "cell_type": "code",
   "execution_count": 24,
   "metadata": {},
   "outputs": [],
   "source": [
    "sklearn2pmml(pipeline_x, \"pmml_files/poly_x.pmml\", with_repr = True)\n",
    "sklearn2pmml(pipeline_y, \"pmml_files/poly_y.pmml\", with_repr = True)"
   ]
  },
  {
   "cell_type": "code",
   "execution_count": null,
   "metadata": {},
   "outputs": [],
   "source": []
  }
 ],
 "metadata": {
  "kernelspec": {
   "display_name": "Python [conda env:wifi]",
   "language": "python",
   "name": "conda-env-wifi-py"
  },
  "language_info": {
   "codemirror_mode": {
    "name": "ipython",
    "version": 3
   },
   "file_extension": ".py",
   "mimetype": "text/x-python",
   "name": "python",
   "nbconvert_exporter": "python",
   "pygments_lexer": "ipython3",
   "version": "3.6.8"
  }
 },
 "nbformat": 4,
 "nbformat_minor": 2
}
